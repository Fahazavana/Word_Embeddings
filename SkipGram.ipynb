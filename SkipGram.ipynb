{
 "cells": [
  {
   "cell_type": "markdown",
   "metadata": {},
   "source": [
    "# Text preprocessing"
   ]
  },
  {
   "cell_type": "code",
   "execution_count": 2,
   "metadata": {},
   "outputs": [],
   "source": [
    "DATA = \"data/\"\n",
    "TRAIN = f\"{DATA}/train.csv\"\n",
    "TEST = f\"{DATA}/test.csv\"\n",
    "TRAIN_LABEL = f\"{DATA}/train_label.txt\"\n",
    "TRAIN_TITLE = f\"{DATA}/train_title.txt\"\n",
    "TRAIN_TEXT = f\"{DATA}/train_text.txt\"\n",
    "TEST_LABEL = f\"{DATA}/test_label.txt\"\n",
    "TEST_TITLE= f\"{DATA}/test_title.txt\"\n",
    "TEST_TEXT = f\"{DATA}/test_text.txt\"\n",
    "\n",
    "TRAIN_NORM = f\"{DATA}/train_norm.txt\"\n",
    "TEST_NORM = f\"{DATA}/test_norm.txt\""
   ]
  },
  {
   "cell_type": "code",
   "execution_count": 3,
   "metadata": {},
   "outputs": [],
   "source": [
    "# # Splt the csv into label, title, text\n",
    "# import pandas as pd\n",
    "\n",
    "# train = pd.read_csv(TRAIN)\n",
    "# train_col = train.columns\n",
    "# train[train_col[0]].to_csv(TRAIN_LABEL, index=False)\n",
    "# train[train_col[1]].to_csv(TRAIN_TITLE, index=False)\n",
    "# train[train_col[2]].to_csv(TRAIN_TEXT, index=False)\n",
    "\n",
    "# test = pd.read_csv(TEST)\n",
    "# test_col = test.columns\n",
    "# test[test_col[0]].to_csv(TEST_LABEL, index=False)\n",
    "# test[test_col[1]].to_csv(TEST_TITLE, index=False)\n",
    "# test[test_col[2]].to_csv(TEST_TEXT, index=False)\n",
    "# del train, test, pd"
   ]
  },
  {
   "cell_type": "code",
   "execution_count": 4,
   "metadata": {},
   "outputs": [],
   "source": [
    "# from src.Normalizer import normalize_data\n",
    "# normalize_data(TRAIN_TEXT, TRAIN_NORM)\n",
    "# normalize_data(TEST_TEXT, TEST_NORM)"
   ]
  },
  {
   "cell_type": "code",
   "execution_count": null,
   "metadata": {},
   "outputs": [],
   "source": [
    "ca"
   ]
  },
  {
   "cell_type": "markdown",
   "metadata": {},
   "source": [
    "# Training skipgram model"
   ]
  },
  {
   "cell_type": "code",
   "execution_count": 5,
   "metadata": {},
   "outputs": [],
   "source": [
    "from torch.utils.data import DataLoader, Dataset\n",
    "import torch\n",
    "from torch import optim \n",
    "from torch import nn\n",
    "from datetime import datetime\n",
    "\n",
    "from torch.utils.tensorboard.writer import SummaryWriter\n",
    "\n",
    "from src import SkipGram as SGVanilla\n",
    "import numpy as np\n",
    "from tqdm import tqdm\n",
    "import matplotlib.pyplot as plt"
   ]
  },
  {
   "cell_type": "code",
   "execution_count": 9,
   "metadata": {},
   "outputs": [],
   "source": [
    "corpus = SGVanilla.Corpus(TRAIN_NORM, 3)\n",
    "corpus_train = SGVanilla.CorpusData(corpus)\n",
    "corpus_loader = DataLoader(corpus_train, batch_size=4096, shuffle=True)"
   ]
  },
  {
   "cell_type": "code",
   "execution_count": 12,
   "metadata": {},
   "outputs": [],
   "source": [
    "N = corpus.vocab_size\n",
    "H = 25\n",
    "model = SGVanilla.SkipGram(N, H)\n",
    "device = \"mps\"\n",
    "model = model.to(device)"
   ]
  },
  {
   "cell_type": "code",
   "execution_count": 13,
   "metadata": {},
   "outputs": [],
   "source": [
    "optimizer = optim.Adam(model.parameters(), 1e-3)\n",
    "criterion = nn.CrossEntropyLoss()"
   ]
  },
  {
   "cell_type": "code",
   "execution_count": 14,
   "metadata": {},
   "outputs": [
    {
     "name": "stderr",
     "output_type": "stream",
     "text": [
      "Epoch 1: 100%|██████████| 1251/1251 [03:59<00:00,  5.22it/s, loss=10.84]\n",
      "Epoch 2: 100%|██████████| 1251/1251 [03:58<00:00,  5.25it/s, loss=9.68]\n",
      "Epoch 3: 100%|██████████| 1251/1251 [04:00<00:00,  5.20it/s, loss=9.28]\n",
      "Epoch 4: 100%|██████████| 1251/1251 [03:57<00:00,  5.28it/s, loss=9.17]\n",
      "Epoch 5: 100%|██████████| 1251/1251 [03:56<00:00,  5.29it/s, loss=9.10]\n",
      "Epoch 6: 100%|██████████| 1251/1251 [03:57<00:00,  5.27it/s, loss=9.05]\n",
      "Epoch 7: 100%|██████████| 1251/1251 [03:57<00:00,  5.26it/s, loss=9.01]\n",
      "Epoch 8: 100%|██████████| 1251/1251 [03:57<00:00,  5.26it/s, loss=8.98]\n",
      "Epoch 9: 100%|██████████| 1251/1251 [03:58<00:00,  5.25it/s, loss=8.95]\n",
      "Epoch 10: 100%|██████████| 1251/1251 [03:56<00:00,  5.28it/s, loss=8.93]\n"
     ]
    }
   ],
   "source": [
    "model, log = SGVanilla.train(model, corpus_loader, 10,criterion, optimizer, device)"
   ]
  },
  {
   "cell_type": "code",
   "execution_count": 15,
   "metadata": {},
   "outputs": [],
   "source": [
    "def log_embeddings(model, corpus):\n",
    "\tnow = datetime.now()\n",
    "\tlog_dir = f'runs/embeddings_{now.strftime(\"%Y%m%d-%H%M%S\")}'\n",
    "\twriter = SummaryWriter(log_dir)\n",
    "\tembeddings = model.center.weight\n",
    "\tlabels = list(corpus.id2word.values())\n",
    "\twriter.add_embedding(embeddings, metadata=labels)\n",
    "\twriter.flush()\n",
    "\twriter.close()\n",
    "\treturn log_dir"
   ]
  },
  {
   "cell_type": "code",
   "execution_count": 16,
   "metadata": {},
   "outputs": [
    {
     "data": {
      "text/plain": [
       "'runs/embeddings_20240705-131704'"
      ]
     },
     "execution_count": 16,
     "metadata": {},
     "output_type": "execute_result"
    }
   ],
   "source": [
    "log_embeddings(model, corpus)"
   ]
  },
  {
   "cell_type": "markdown",
   "metadata": {},
   "source": [
    "# Text Classifiers"
   ]
  },
  {
   "cell_type": "code",
   "execution_count": 277,
   "metadata": {},
   "outputs": [],
   "source": [
    "import torch\n",
    "import torch.nn as nn\n",
    "import torch.optim as optim\n",
    "from torch.utils.data import Dataset, DataLoader\n",
    "from tqdm import tqdm\n",
    "import numpy as np\n",
    "\n",
    "class TextClassifier(nn.Module):\n",
    "\tdef __init__(self, nbr_words, nbrclass) -> None:\n",
    "\t\tsuper(TextClassifier, self).__init__()\n",
    "\t\tself.classifier = nn.Sequential(\n",
    "\t\t\tnn.Linear(nbr_words, 1024),\n",
    "\t\t\tnn.LeakyReLU(0.2),\n",
    "\t\t\tnn.Linear(1024, 256),\n",
    "\t\t\tnn.LeakyReLU(0.2),\n",
    "\t\t\tnn.Linear(256, nbrclass)\n",
    "\t\t)\n",
    "\t\n",
    "\tdef forward(self, x):\n",
    "\t\treturn self.classifier(x)\n",
    "\n",
    "class Corpus2:\n",
    "\tdef __init__(self, text, label, mapping):\n",
    "\t\tself.x_file = text\n",
    "\t\tself.y_file = label\n",
    "\t\tself.x = []\n",
    "\t\tself.y = []\n",
    "\t\tself.word2id = mapping\n",
    "\t\tself.__read_data()\n",
    "\t\n",
    "\tdef __read_data(self):\n",
    "\t\twith open(self.y_file) as f:\n",
    "\t\t\tfor y in f:\n",
    "\t\t\t\tself.y.append(int(y.strip()))\n",
    "\n",
    "\t\twith open(self.x_file) as file:\n",
    "\t\t\tfor line in file:\n",
    "\t\t\t\tline = line.strip().split()\n",
    "\t\t\t\ttext = [self.word2id[word] for word in line if len(word) > 2]\n",
    "\t\t\t\tself.x.append(text)\n",
    "\n",
    "class Corpus2Data(Dataset):\n",
    "\tdef __init__(self, data, embed, device):\n",
    "\t\tself.data = data\n",
    "\t\tself.embed = self.__embedding(embed)\n",
    "\t\tself.device = device\n",
    "\n",
    "\tdef mean_embedding(self, x):\n",
    "\t\tx = self.embed(x)\n",
    "\t\tx = torch.mean(x, dim=0)\n",
    "\t\treturn x\n",
    "\n",
    "\tdef __embedding(self, embedding):\n",
    "\t\tembedding.requires_grad = False\n",
    "\t\treturn embedding\n",
    "\n",
    "\tdef __getitem__(self, idx):\n",
    "\t\tx = torch.from_numpy(np.array(self.data.x[idx], dtype=\"int32\"))\n",
    "\t\ty = self.data.y[idx]\n",
    "\t\tx = self.mean_embedding(x.to(self.device))\n",
    "\t\treturn x, np.array(y, dtype=\"int32\")\n",
    "\n",
    "\tdef __len__(self):\n",
    "\t\treturn len(self.data.y)\n",
    "\n",
    "def train(model, dataloader, num_epochs, criterion, optimizer, device):\n",
    "\tN = len(dataloader.dataset)\n",
    "\tlog = []\n",
    "\tmodel.train()\n",
    "\tfor epoch in range(num_epochs):\n",
    "\t\ttotal_loss = 0\n",
    "\t\tcorrect = 0\n",
    "\t\tpbar = tqdm(dataloader, total=len(dataloader), desc=f\"Epoch {epoch+1}\")\n",
    "\t\tfor x, y in pbar:\n",
    "\t\t\tx, y = x.to(device), y.to(device)\n",
    "\t\t\toptimizer.zero_grad()\n",
    "\t\t\toutput = model(x)\n",
    "\t\t\tloss = criterion(output, y)\n",
    "\t\t\tloss.backward()\n",
    "\t\t\toptimizer.step()\n",
    "\n",
    "\t\t\ttotal_loss += loss.item() * x.size(0)\n",
    "\n",
    "\t\t\t# Calculate accuracy\n",
    "\t\t\t_ , predicted = torch.max(output, 1)\n",
    "\t\t\tcorrect += (predicted == y).sum().item()\n",
    "\n",
    "\t\t\tpbar.set_postfix(loss=f\"{total_loss/N:.2f}\", accuracy=f\"{correct/N:.2f}\")\n",
    "\n",
    "\t\tavg_loss = total_loss / N\n",
    "\t\taccuracy = correct / N\n",
    "\t\tlog.append((avg_loss, accuracy))\n",
    "\n",
    "\tmodel.eval()\n",
    "\treturn model, log"
   ]
  },
  {
   "cell_type": "code",
   "execution_count": 278,
   "metadata": {},
   "outputs": [],
   "source": [
    "word2id = corpus.word2id"
   ]
  },
  {
   "cell_type": "code",
   "execution_count": 279,
   "metadata": {},
   "outputs": [],
   "source": [
    "device = \"mps\"\n",
    "corpus2 = Corpus2(f\"{DATA}/testing_data.txt\", f\"{DATA}/testing_data_label.txt\", word2id)\n",
    "corpus2train = Corpus2Data(corpus2,model.center, device)\n",
    "corpus2loader = DataLoader(corpus2train, batch_size=32, shuffle=True)\n",
    "\n",
    "\n",
    "classf = TextClassifier(model.center.embedding_dim, 4)\n",
    "classf = classf.to(device)\n",
    "\n",
    "optimizer = optim.NAdam(classf.parameters(), 1e-3)\n",
    "criterion = nn.CrossEntropyLoss()"
   ]
  },
  {
   "cell_type": "code",
   "execution_count": 280,
   "metadata": {},
   "outputs": [
    {
     "name": "stderr",
     "output_type": "stream",
     "text": [
      "Epoch 1: 100%|██████████| 7/7 [00:00<00:00, 47.24it/s, accuracy=0.38, loss=0.19]\n",
      "Epoch 2: 100%|██████████| 7/7 [00:00<00:00, 50.71it/s, accuracy=0.39, loss=0.01]\n",
      "Epoch 3: 100%|██████████| 7/7 [00:00<00:00, 49.41it/s, accuracy=0.39, loss=0.00]\n",
      "Epoch 4: 100%|██████████| 7/7 [00:00<00:00, 48.03it/s, accuracy=0.39, loss=0.00]\n",
      "Epoch 5: 100%|██████████| 7/7 [00:00<00:00, 49.10it/s, accuracy=0.39, loss=0.00]\n",
      "Epoch 6: 100%|██████████| 7/7 [00:00<00:00, 48.56it/s, accuracy=0.39, loss=0.00]\n",
      "Epoch 7: 100%|██████████| 7/7 [00:00<00:00, 35.07it/s, accuracy=0.39, loss=0.00]\n",
      "Epoch 8: 100%|██████████| 7/7 [00:00<00:00, 49.05it/s, accuracy=0.39, loss=0.00]\n",
      "Epoch 9: 100%|██████████| 7/7 [00:00<00:00, 48.03it/s, accuracy=0.39, loss=0.00]\n",
      "Epoch 10: 100%|██████████| 7/7 [00:00<00:00, 49.03it/s, accuracy=0.39, loss=0.00]\n"
     ]
    }
   ],
   "source": [
    "\n",
    "classf, log = train(classf, corpus2loader, 10,criterion, optimizer, device)"
   ]
  },
  {
   "cell_type": "code",
   "execution_count": 281,
   "metadata": {},
   "outputs": [],
   "source": [
    "log = np.array(log)"
   ]
  },
  {
   "cell_type": "code",
   "execution_count": 282,
   "metadata": {},
   "outputs": [
    {
     "data": {
      "image/png": "[encoded data removed]",
      "text/plain": [
       "<Figure size 1000x400 with 2 Axes>"
      ]
     },
     "metadata": {},
     "output_type": "display_data"
    }
   ],
   "source": [
    "plt.figure(figsize=(10,4))\n",
    "plt.subplot(121)\n",
    "plt.plot(log[:,1])\n",
    "plt.grid()\n",
    "plt.subplot(122)\n",
    "plt.plot(log[:,0])\n",
    "plt.grid()\n",
    "plt.show()"
   ]
  },
  {
   "cell_type": "code",
   "execution_count": 309,
   "metadata": {},
   "outputs": [],
   "source": [
    "import torch\n",
    "import torch.nn as nn\n",
    "import torch.optim as optim\n",
    "from torch.utils.data import Dataset, DataLoader\n",
    "from torch.nn.utils.rnn import pad_sequence\n",
    "from tqdm import tqdm\n",
    "import numpy as np\n",
    "\n",
    "class TextClassifier(nn.Module):\n",
    "\tdef __init__(self, nbr_words, nbrclass, embedding) -> None:\n",
    "\t\tsuper(TextClassifier, self).__init__()\n",
    "\t\tself.embedding = self.__embedding(embedding)\n",
    "\t\tself.classifier = nn.Sequential(\n",
    "\t\t\tnn.Linear(nbr_words, 1024),\n",
    "\t\t\tnn.LeakyReLU(0.2),\n",
    "\t\t\tnn.Linear(1024, 256),\n",
    "\t\t\tnn.LeakyReLU(0.2),\n",
    "\t\t\tnn.Linear(256, nbrclass)\n",
    "\t\t)\n",
    "\t\n",
    "\t\n",
    "\tdef forward(self, x):\n",
    "\t\tx = self.mean_embedding(x)\n",
    "\t\treturn self.classifier(x)\n",
    "\t\n",
    "\tdef __embedding(self, embedding):\n",
    "\t\tembedding.requires_grad = True\n",
    "\t\treturn embedding\n",
    "\n",
    "\tdef mean_embedding(self, x):\n",
    "\t\tx = self.embedding(x)\n",
    "\t\tx = torch.mean(x, dim=1)\n",
    "\t\treturn x\n",
    "\n",
    "class Corpus2:\n",
    "\tdef __init__(self, text, label, mapping):\n",
    "\t\tself.x_file = text\n",
    "\t\tself.y_file = label\n",
    "\t\tself.x = []\n",
    "\t\tself.y = []\n",
    "\t\tself.word2id = mapping\n",
    "\t\tself.__read_data()\n",
    "\t\n",
    "\tdef __read_data(self):\n",
    "\t\twith open(self.y_file) as f:\n",
    "\t\t\tfor y in f:\n",
    "\t\t\t\tself.y.append(np.array(int(y.strip()), dtype=\"int32\"))\n",
    "\n",
    "\t\twith open(self.x_file) as file:\n",
    "\t\t\tfor line in file:\n",
    "\t\t\t\tline = line.strip().split()\n",
    "\t\t\t\ttext = np.array([self.word2id[word] for word in line if len(word) > 2], dtype=\"int32\")\n",
    "\t\t\t\tself.x.append(text)\n",
    "\n",
    "class Corpus2Data(Dataset):\n",
    "\tdef __init__(self, data, device):\n",
    "\t\tself.data = data\n",
    "\t\tself.device = device\n",
    "\n",
    "\tdef __getitem__(self, idx):\n",
    "\t\tx = torch.from_numpy(self.data.x[idx]).long()\n",
    "\t\ty = torch.from_numpy(self.data.y[idx]).long()\n",
    "\t\treturn x, y\n",
    "\n",
    "\tdef __len__(self):\n",
    "\t\treturn len(self.data.y)\n",
    "\t\n",
    "def collate_fn(batch):\n",
    "\t# Separate the inputs and targets\n",
    "\tinputs, targets = zip(*batch)\n",
    "\t# Pad sequences\n",
    "\tinputs = pad_sequence(inputs, batch_first=True, padding_value=0)\n",
    "\t# Stack targets\n",
    "\ttargets = torch.stack(targets)\n",
    "\treturn inputs, targets\n",
    "\n",
    "\n",
    "def train(model, dataloader, num_epochs, criterion, optimizer, device):\n",
    "\tN = len(dataloader.dataset)\n",
    "\tlog = []\n",
    "\tmodel.train()\n",
    "\tfor epoch in range(num_epochs):\n",
    "\t\ttotal_loss = 0\n",
    "\t\tcorrect = 0\n",
    "\t\tpbar = tqdm(dataloader, total=len(dataloader), desc=f\"Epoch {epoch+1}\")\n",
    "\t\tfor x, y in pbar:\n",
    "\t\t\tx, y = x.to(device), y.to(device)\n",
    "\t\t\toptimizer.zero_grad()\n",
    "\t\t\toutput = model(x)\n",
    "\t\t\tloss = criterion(output, y)\n",
    "\t\t\tloss.backward()\n",
    "\t\t\toptimizer.step()\n",
    "\n",
    "\t\t\ttotal_loss += loss.item() * x.size(0)\n",
    "\n",
    "\n",
    "\t\t\t# Calculate accuracy\n",
    "\t\t\t_ , predicted = torch.max(output, 1)\n",
    "\t\t\tcorrect += (predicted == y).sum().item()\n",
    "\n",
    "\t\t\tpbar.set_postfix(loss=f\"{total_loss/N:.2f}\", accuracy=f\"{correct/N:.2f}\")\n",
    "\n",
    "\t\tavg_loss = total_loss / N\n",
    "\t\taccuracy = correct / N\n",
    "\t\tlog.append((avg_loss, accuracy))\n",
    "\n",
    "\tmodel.eval()\n",
    "\treturn model, log"
   ]
  },
  {
   "cell_type": "code",
   "execution_count": 310,
   "metadata": {},
   "outputs": [
    {
     "name": "stderr",
     "output_type": "stream",
     "text": [
      "Epoch 1: 100%|██████████| 13/13 [00:00<00:00, 139.62it/s, accuracy=0.36, loss=0.05]\n",
      "Epoch 2: 100%|██████████| 13/13 [00:00<00:00, 156.41it/s, accuracy=0.39, loss=0.00]\n",
      "Epoch 3: 100%|██████████| 13/13 [00:00<00:00, 85.98it/s, accuracy=0.39, loss=0.00]\n",
      "Epoch 4: 100%|██████████| 13/13 [00:00<00:00, 143.99it/s, accuracy=0.39, loss=0.00]\n",
      "Epoch 5: 100%|██████████| 13/13 [00:00<00:00, 141.62it/s, accuracy=0.39, loss=0.00]\n",
      "Epoch 6: 100%|██████████| 13/13 [00:00<00:00, 120.37it/s, accuracy=0.39, loss=0.00]\n",
      "Epoch 7: 100%|██████████| 13/13 [00:00<00:00, 151.38it/s, accuracy=0.39, loss=0.00]\n",
      "Epoch 8: 100%|██████████| 13/13 [00:00<00:00, 144.71it/s, accuracy=0.39, loss=0.00]\n",
      "Epoch 9: 100%|██████████| 13/13 [00:00<00:00, 151.24it/s, accuracy=0.39, loss=0.00]\n",
      "Epoch 10: 100%|██████████| 13/13 [00:00<00:00, 82.17it/s, accuracy=0.39, loss=0.00]\n",
      "Epoch 11: 100%|██████████| 13/13 [00:00<00:00, 142.11it/s, accuracy=0.39, loss=0.00]\n",
      "Epoch 12: 100%|██████████| 13/13 [00:00<00:00, 145.20it/s, accuracy=0.39, loss=0.00]\n",
      "Epoch 13: 100%|██████████| 13/13 [00:00<00:00, 142.67it/s, accuracy=0.39, loss=0.00]\n",
      "Epoch 14: 100%|██████████| 13/13 [00:00<00:00, 149.98it/s, accuracy=0.39, loss=0.00]\n",
      "Epoch 15: 100%|██████████| 13/13 [00:00<00:00, 148.28it/s, accuracy=0.39, loss=0.00]\n",
      "Epoch 16: 100%|██████████| 13/13 [00:00<00:00, 136.79it/s, accuracy=0.39, loss=0.00]\n",
      "Epoch 17: 100%|██████████| 13/13 [00:00<00:00, 78.50it/s, accuracy=0.39, loss=0.00]\n",
      "Epoch 18: 100%|██████████| 13/13 [00:00<00:00, 147.84it/s, accuracy=0.39, loss=0.00]\n",
      "Epoch 19: 100%|██████████| 13/13 [00:00<00:00, 142.53it/s, accuracy=0.39, loss=0.00]\n",
      "Epoch 20: 100%|██████████| 13/13 [00:00<00:00, 147.51it/s, accuracy=0.39, loss=0.00]\n"
     ]
    }
   ],
   "source": [
    "device = \"mps\"\n",
    "corpus2 = Corpus2(f\"{DATA}/testing_data.txt\", f\"{DATA}/testing_data_label.txt\", word2id)\n",
    "corpus2train = Corpus2Data(corpus2,device)\n",
    "corpus2loader = DataLoader(corpus2train, batch_size=16, shuffle=True, collate_fn=collate_fn)\n",
    "\n",
    "\n",
    "classf = TextClassifier(model.center.embedding_dim, 4, model.center)\n",
    "classf = classf.to(device)\n",
    "\n",
    "optimizer = optim.NAdam(classf.parameters(), 1e-3)\n",
    "criterion = nn.CrossEntropyLoss()\n",
    "\n",
    "classf, log = train(classf, corpus2loader, 20,criterion, optimizer, device)"
   ]
  },
  {
   "cell_type": "code",
   "execution_count": null,
   "metadata": {},
   "outputs": [],
   "source": []
  }
 ],
 "metadata": {
  "kernelspec": {
   "display_name": "torch",
   "language": "python",
   "name": "python3"
  },
  "language_info": {
   "codemirror_mode": {
    "name": "ipython",
    "version": 3
   },
   "file_extension": ".py",
   "mimetype": "text/x-python",
   "name": "python",
   "nbconvert_exporter": "python",
   "pygments_lexer": "ipython3",
   "version": "3.10.14"
  }
 },
 "nbformat": 4,
 "nbformat_minor": 2
}
