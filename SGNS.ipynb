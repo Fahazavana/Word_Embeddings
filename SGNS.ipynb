{
 "cells": [
  {
   "cell_type": "markdown",
   "metadata": {},
   "source": [
    "# Text preprocessing"
   ]
  },
  {
   "cell_type": "code",
   "execution_count": 14,
   "metadata": {},
   "outputs": [],
   "source": [
    "DATA = \"data/\"\n",
    "TRAIN = f\"{DATA}/train.csv\"\n",
    "TEST = f\"{DATA}/test.csv\"\n",
    "TRAIN_LABEL = f\"{DATA}/train_label.txt\"\n",
    "TRAIN_TITLE = f\"{DATA}/train_title.txt\"\n",
    "TRAIN_TEXT = f\"{DATA}/train_text.txt\"\n",
    "TEST_LABEL = f\"{DATA}/test_label.txt\"\n",
    "TEST_TITLE = f\"{DATA}/test_title.txt\"\n",
    "TEST_TEXT = f\"{DATA}/test_text.txt\"\n",
    "\n",
    "TRAIN_NORM = f\"{DATA}/train_norm.txt\"\n",
    "TEST_NORM = f\"{DATA}/test_norm.txt\""
   ]
  },
  {
   "cell_type": "code",
   "execution_count": 15,
   "metadata": {},
   "outputs": [],
   "source": [
    "# # Splt the csv into label, title, text\n",
    "# import pandas as pd\n",
    "\n",
    "# train = pd.read_csv(TRAIN)\n",
    "# train_col = train.columns\n",
    "# train[train_col[0]].to_csv(TRAIN_LABEL, index=False)\n",
    "# train[train_col[1]].to_csv(TRAIN_TITLE, index=False)\n",
    "# train[train_col[2]].to_csv(TRAIN_TEXT, index=False)\n",
    "\n",
    "# test = pd.read_csv(TEST)\n",
    "# test_col = test.columns\n",
    "# test[test_col[0]].to_csv(TEST_LABEL, index=False)\n",
    "# test[test_col[1]].to_csv(TEST_TITLE, index=False)\n",
    "# test[test_col[2]].to_csv(TEST_TEXT, index=False)\n",
    "# del train, test, pd"
   ]
  },
  {
   "cell_type": "code",
   "execution_count": 16,
   "metadata": {},
   "outputs": [],
   "source": [
    "# from src.Normalizer import normalize_data\n",
    "# normalize_data(TRAIN_TEXT, TRAIN_NORM)\n",
    "# normalize_data(TEST_TEXT, TEST_NORM)"
   ]
  },
  {
   "cell_type": "code",
   "execution_count": 21,
   "metadata": {},
   "outputs": [],
   "source": [
    "import numpy as np\n",
    "from typing import List, Union, Generator, Dict\n",
    "import torch\n",
    "import numpy as np\n",
    "import torch.nn as nn\n",
    "from torch.utils.data import Dataset, DataLoader\n",
    "from tqdm import tqdm\n",
    "from torch import optim\n",
    "from collections import Counter\n",
    "from datetime import time"
   ]
  },
  {
   "cell_type": "code",
   "execution_count": 22,
   "metadata": {},
   "outputs": [],
   "source": [
    "class Corpus:\n",
    "\tdef __init__(self, file_name: str, window: int = 1, k = 3):\n",
    "\t\tself.file_name = file_name\n",
    "\t\tself.word2id: Dict[str, int] = {}\n",
    "\t\tself.id2word: Dict[int, str] = {}\n",
    "\t\tself.word_count = {}\n",
    "\t\tself.k = k\n",
    "\t\tself.vocab_size = 0\n",
    "\t\tself.window = window\n",
    "\t\tself.pairs = []\n",
    "\t\tself.noise_dist = np.array([])\n",
    "\t\tself.__init_data()\n",
    "\t\tself.__subsample()\n",
    "\t\tself.__make_pairs()\n",
    "\t\tself.__noise_dist()\n",
    "\n",
    "\tdef __init_data(self):\n",
    "\t\twith open(self.file_name, \"r\") as file:\n",
    "\t\t\tdata = file.read()\n",
    "\t\tdata = data.split()\n",
    "\t\tself.word_count = Counter(data)\n",
    "\t\tself.total = sum(list(self.word_count.values()))\n",
    "\t\tself.vocab_size = len(self.word_count)\n",
    "\n",
    "\tdef __subsample(self):\n",
    "\t\tt = 1e-5\n",
    "\t\tsorted_count = sorted(self.word_count, key=self.word_count.get, reverse=True)  # type: ignore\n",
    "\t\tfreq = {word: count / self.total for word, count in self.word_count.items()}\n",
    "\t\tpdrop = {word: 1 - np.sqrt(t / freq[word]) for word in sorted_count}\n",
    "\t\ti = 0\n",
    "\t\t_new_word_count = {}\n",
    "\t\tfor word in sorted_count:\n",
    "\t\t\tif np.random.random() < 2:#- pdrop[word]:\n",
    "\t\t\t\tself.id2word[i] = word\n",
    "\t\t\t\tself.word2id[word] = i\n",
    "\t\t\t\t_new_word_count[word] = self.word_count[word]\n",
    "\t\t\t\ti += 1\n",
    "\t\tself.word_count = _new_word_count\n",
    "\t\tself.vocab_size =  len(self.word_count.keys())\n",
    "\t\tself.total = sum(list(self.word_count.values()))\n",
    "\n",
    "\tdef __get_pairs(self, text: List[str]):\n",
    "\t\tnum_words = len(text)\n",
    "\t\tfor i, word in enumerate(text):\n",
    "\t\t\tif word in self.word2id.keys():\n",
    "\t\t\t\tcenter = self.word2id[word]\n",
    "\t\t\t\tcontext = text[max(0, i - self.window) : i]\n",
    "\t\t\t\tcontext += text[i + 1 : min(num_words, i + self.window + 1)]\n",
    "\t\t\t\t_tmp = ((center, self.word2id[cnt]) for cnt in context if cnt in self.word2id.keys())\n",
    "\t\t\t\tself.pairs.extend(_tmp)  # type: ignore\n",
    "\n",
    "\tdef __noise_dist(self,):\n",
    "\t\tfreq = {}\n",
    "\t\tfor word in self.word2id.keys():\n",
    "\t\t\tfreq[word] = self.word_count[word]/self.total\n",
    "\t\tunigram = np.array(list(freq.values()))**(3/4)\n",
    "\t\tself.noise_dist = unigram/unigram.sum()\n",
    "\t\tself.noise_dist = torch.from_numpy(self.noise_dist)\n",
    "\t\t_neg = []\n",
    "\t\tfor pair in self.pairs:\n",
    "\t\t\t_, b = pair\n",
    "\t\t\t_tmp = self.noise_dist.clone()\n",
    "\t\t\t_tmp[b] = 0.0\n",
    "\t\t\t_neg.append(torch.multinomial(input = _tmp, num_samples = self.k, replacement = True))\n",
    "\t\tself.neg = np.asarray(_neg)\n",
    "\t\ti,j = self.pairs.shape\n",
    "\t\tself.pairs = self.pairs.reshape(i,j,1)\n",
    "\n",
    "\t\t\n",
    "\tdef __make_pairs(self):\n",
    "\t\twith open(self.file_name) as data:\n",
    "\t\t\tfor text in data:\n",
    "\t\t\t\tself.__get_pairs(text.strip().split())\n",
    "\t\t_tmp = set(self.pairs)\n",
    "\t\t_tmp = np.array(list(_tmp))\n",
    "\t\tself.pairs = np.array(_tmp)\t"
   ]
  },
  {
   "cell_type": "code",
   "execution_count": 23,
   "metadata": {},
   "outputs": [],
   "source": []
  },
  {
   "cell_type": "code",
   "execution_count": 24,
   "metadata": {},
   "outputs": [],
   "source": [
    "corpus = Corpus(TRAIN_NORM, 3, 10)\n",
    "corpusdata = CorpusData(corpus)\n",
    "V = corpus.vocab_size\n",
    "H = 50\n",
    "device = \"mps\""
   ]
  },
  {
   "cell_type": "code",
   "execution_count": 25,
   "metadata": {},
   "outputs": [],
   "source": [
    "model = SGNS(V, H)\n",
    "model = model.to(device)"
   ]
  },
  {
   "cell_type": "code",
   "execution_count": 26,
   "metadata": {},
   "outputs": [],
   "source": [
    "criterion = SGNSLoss()\n",
    "optimizer = optim.Adam(model.parameters())\n",
    "dataloader = DataLoader(corpusdata, batch_size=4 * 8192, shuffle=True)\n",
    "N = len(corpusdata)"
   ]
  },
  {
   "cell_type": "code",
   "execution_count": 27,
   "metadata": {},
   "outputs": [
    {
     "name": "stderr",
     "output_type": "stream",
     "text": [
      "Epoch 1:   0%|          | 0/148 [00:00<?, ?it/s]"
     ]
    },
    {
     "name": "stderr",
     "output_type": "stream",
     "text": [
      "Epoch 1: 100%|██████████| 148/148 [00:58<00:00,  2.53it/s, loss=30.21]\n",
      "Epoch 2: 100%|██████████| 148/148 [00:57<00:00,  2.56it/s, loss=26.76]\n",
      "Epoch 3: 100%|██████████| 148/148 [00:59<00:00,  2.51it/s, loss=23.70]\n",
      "Epoch 4:   5%|▌         | 8/148 [00:03<01:02,  2.24it/s, loss=1.20]\n"
     ]
    },
    {
     "ename": "KeyboardInterrupt",
     "evalue": "",
     "output_type": "error",
     "traceback": [
      "\u001b[0;31m---------------------------------------------------------------------------\u001b[0m",
      "\u001b[0;31mKeyboardInterrupt\u001b[0m                         Traceback (most recent call last)",
      "Cell \u001b[0;32mIn[27], line 6\u001b[0m\n\u001b[1;32m      4\u001b[0m model\u001b[38;5;241m.\u001b[39mtrain()\n\u001b[1;32m      5\u001b[0m pbar \u001b[38;5;241m=\u001b[39m tqdm(dataloader, total\u001b[38;5;241m=\u001b[39m\u001b[38;5;28mlen\u001b[39m(dataloader), desc\u001b[38;5;241m=\u001b[39m\u001b[38;5;124mf\u001b[39m\u001b[38;5;124m\"\u001b[39m\u001b[38;5;124mEpoch \u001b[39m\u001b[38;5;132;01m{\u001b[39;00mi\u001b[38;5;241m+\u001b[39m\u001b[38;5;241m1\u001b[39m\u001b[38;5;132;01m}\u001b[39;00m\u001b[38;5;124m\"\u001b[39m)\n\u001b[0;32m----> 6\u001b[0m \u001b[38;5;28;01mfor\u001b[39;00m c, o, n \u001b[38;5;129;01min\u001b[39;00m pbar:\n\u001b[1;32m      7\u001b[0m \tc, o, n \u001b[38;5;241m=\u001b[39m c\u001b[38;5;241m.\u001b[39mto(device), o\u001b[38;5;241m.\u001b[39mto(device), n\u001b[38;5;241m.\u001b[39mto(device)\n\u001b[1;32m      8\u001b[0m \tpos, neg \u001b[38;5;241m=\u001b[39m model(c, o, n)\n",
      "File \u001b[0;32m~/.pyenv/versions/3.10.14/envs/torch/lib/python3.10/site-packages/tqdm/std.py:1181\u001b[0m, in \u001b[0;36mtqdm.__iter__\u001b[0;34m(self)\u001b[0m\n\u001b[1;32m   1178\u001b[0m time \u001b[38;5;241m=\u001b[39m \u001b[38;5;28mself\u001b[39m\u001b[38;5;241m.\u001b[39m_time\n\u001b[1;32m   1180\u001b[0m \u001b[38;5;28;01mtry\u001b[39;00m:\n\u001b[0;32m-> 1181\u001b[0m     \u001b[38;5;28;01mfor\u001b[39;00m obj \u001b[38;5;129;01min\u001b[39;00m iterable:\n\u001b[1;32m   1182\u001b[0m         \u001b[38;5;28;01myield\u001b[39;00m obj\n\u001b[1;32m   1183\u001b[0m         \u001b[38;5;66;03m# Update and possibly print the progressbar.\u001b[39;00m\n\u001b[1;32m   1184\u001b[0m         \u001b[38;5;66;03m# Note: does not call self.update(1) for speed optimisation.\u001b[39;00m\n",
      "File \u001b[0;32m~/.pyenv/versions/3.10.14/envs/torch/lib/python3.10/site-packages/torch/utils/data/dataloader.py:631\u001b[0m, in \u001b[0;36m_BaseDataLoaderIter.__next__\u001b[0;34m(self)\u001b[0m\n\u001b[1;32m    628\u001b[0m \u001b[38;5;28;01mif\u001b[39;00m \u001b[38;5;28mself\u001b[39m\u001b[38;5;241m.\u001b[39m_sampler_iter \u001b[38;5;129;01mis\u001b[39;00m \u001b[38;5;28;01mNone\u001b[39;00m:\n\u001b[1;32m    629\u001b[0m     \u001b[38;5;66;03m# TODO(https://github.com/pytorch/pytorch/issues/76750)\u001b[39;00m\n\u001b[1;32m    630\u001b[0m     \u001b[38;5;28mself\u001b[39m\u001b[38;5;241m.\u001b[39m_reset()  \u001b[38;5;66;03m# type: ignore[call-arg]\u001b[39;00m\n\u001b[0;32m--> 631\u001b[0m data \u001b[38;5;241m=\u001b[39m \u001b[38;5;28;43mself\u001b[39;49m\u001b[38;5;241;43m.\u001b[39;49m\u001b[43m_next_data\u001b[49m\u001b[43m(\u001b[49m\u001b[43m)\u001b[49m\n\u001b[1;32m    632\u001b[0m \u001b[38;5;28mself\u001b[39m\u001b[38;5;241m.\u001b[39m_num_yielded \u001b[38;5;241m+\u001b[39m\u001b[38;5;241m=\u001b[39m \u001b[38;5;241m1\u001b[39m\n\u001b[1;32m    633\u001b[0m \u001b[38;5;28;01mif\u001b[39;00m \u001b[38;5;28mself\u001b[39m\u001b[38;5;241m.\u001b[39m_dataset_kind \u001b[38;5;241m==\u001b[39m _DatasetKind\u001b[38;5;241m.\u001b[39mIterable \u001b[38;5;129;01mand\u001b[39;00m \\\n\u001b[1;32m    634\u001b[0m         \u001b[38;5;28mself\u001b[39m\u001b[38;5;241m.\u001b[39m_IterableDataset_len_called \u001b[38;5;129;01mis\u001b[39;00m \u001b[38;5;129;01mnot\u001b[39;00m \u001b[38;5;28;01mNone\u001b[39;00m \u001b[38;5;129;01mand\u001b[39;00m \\\n\u001b[1;32m    635\u001b[0m         \u001b[38;5;28mself\u001b[39m\u001b[38;5;241m.\u001b[39m_num_yielded \u001b[38;5;241m>\u001b[39m \u001b[38;5;28mself\u001b[39m\u001b[38;5;241m.\u001b[39m_IterableDataset_len_called:\n",
      "File \u001b[0;32m~/.pyenv/versions/3.10.14/envs/torch/lib/python3.10/site-packages/torch/utils/data/dataloader.py:675\u001b[0m, in \u001b[0;36m_SingleProcessDataLoaderIter._next_data\u001b[0;34m(self)\u001b[0m\n\u001b[1;32m    673\u001b[0m \u001b[38;5;28;01mdef\u001b[39;00m \u001b[38;5;21m_next_data\u001b[39m(\u001b[38;5;28mself\u001b[39m):\n\u001b[1;32m    674\u001b[0m     index \u001b[38;5;241m=\u001b[39m \u001b[38;5;28mself\u001b[39m\u001b[38;5;241m.\u001b[39m_next_index()  \u001b[38;5;66;03m# may raise StopIteration\u001b[39;00m\n\u001b[0;32m--> 675\u001b[0m     data \u001b[38;5;241m=\u001b[39m \u001b[38;5;28;43mself\u001b[39;49m\u001b[38;5;241;43m.\u001b[39;49m\u001b[43m_dataset_fetcher\u001b[49m\u001b[38;5;241;43m.\u001b[39;49m\u001b[43mfetch\u001b[49m\u001b[43m(\u001b[49m\u001b[43mindex\u001b[49m\u001b[43m)\u001b[49m  \u001b[38;5;66;03m# may raise StopIteration\u001b[39;00m\n\u001b[1;32m    676\u001b[0m     \u001b[38;5;28;01mif\u001b[39;00m \u001b[38;5;28mself\u001b[39m\u001b[38;5;241m.\u001b[39m_pin_memory:\n\u001b[1;32m    677\u001b[0m         data \u001b[38;5;241m=\u001b[39m _utils\u001b[38;5;241m.\u001b[39mpin_memory\u001b[38;5;241m.\u001b[39mpin_memory(data, \u001b[38;5;28mself\u001b[39m\u001b[38;5;241m.\u001b[39m_pin_memory_device)\n",
      "\u001b[0;31mKeyboardInterrupt\u001b[0m: "
     ]
    }
   ],
   "source": [
    "for i in range(100):\n",
    "\tlog = []\n",
    "\ttotal_loss = 0\n",
    "\tmodel.train()\n",
    "\tpbar = tqdm(dataloader, total=len(dataloader), desc=f\"Epoch {i+1}\")\n",
    "\tfor c, o, n in pbar:\n",
    "\t\tc, o, n = c.to(device), o.to(device), n.to(device)\n",
    "\t\tpos, neg = model(c, o, n)\n",
    "\t\toptimizer.zero_grad()\n",
    "\t\tloss = criterion(pos, neg)\n",
    "\t\tloss.backward()\n",
    "\t\toptimizer.step()\n",
    "\t\ttotal_loss += loss.item() * c.size(0)\n",
    "\t\tpbar.set_postfix(loss=f\"{total_loss/N:.2f}\")\n",
    "\n",
    "\tavg_loss = total_loss / N\n",
    "\tlog.append(avg_loss)"
   ]
  },
  {
   "cell_type": "code",
   "execution_count": null,
   "metadata": {},
   "outputs": [
    {
     "data": {
      "text/plain": [
       "torch.Size([55085, 50])"
      ]
     },
     "execution_count": 151,
     "metadata": {},
     "output_type": "execute_result"
    }
   ],
   "source": [
    "model.vEmbedding.weight.shape"
   ]
  },
  {
   "cell_type": "code",
   "execution_count": null,
   "metadata": {},
   "outputs": [],
   "source": [
    "from torch.utils.tensorboard.writer import SummaryWriter\n",
    "\n",
    "from datetime import datetime"
   ]
  },
  {
   "cell_type": "code",
   "execution_count": null,
   "metadata": {},
   "outputs": [
    {
     "data": {
      "text/plain": [
       "datetime.datetime(2024, 7, 6, 9, 38, 7, 609074)"
      ]
     },
     "execution_count": 159,
     "metadata": {},
     "output_type": "execute_result"
    }
   ],
   "source": [
    "datetime.now()"
   ]
  },
  {
   "cell_type": "code",
   "execution_count": null,
   "metadata": {},
   "outputs": [
    {
     "data": {
      "text/plain": [
       "'runs/negativesampling_20240706-093845'"
      ]
     },
     "execution_count": 161,
     "metadata": {},
     "output_type": "execute_result"
    }
   ],
   "source": [
    "def log_embeddings(model, corpus):\n",
    "\tnow = datetime.now()\n",
    "\tlog_dir = f'runs/negativesampling_{now.strftime(\"%Y%m%d-%H%M%S\")}'\n",
    "\twriter = SummaryWriter(log_dir)\n",
    "\tembeddings = model.vEmbedding.weight\n",
    "\tlabels = list(corpus.id2word.values())\n",
    "\twriter.add_embedding(embeddings, metadata=labels)\n",
    "\twriter.flush()\n",
    "\twriter.close()\n",
    "\treturn log_dir\n",
    "\n",
    "\n",
    "# log_embeddings(model, corpus)"
   ]
  },
  {
   "cell_type": "code",
   "execution_count": null,
   "metadata": {},
   "outputs": [],
   "source": []
  }
 ],
 "metadata": {
  "kernelspec": {
   "display_name": "torch",
   "language": "python",
   "name": "python3"
  },
  "language_info": {
   "codemirror_mode": {
    "name": "ipython",
    "version": 3
   },
   "file_extension": ".py",
   "mimetype": "text/x-python",
   "name": "python",
   "nbconvert_exporter": "python",
   "pygments_lexer": "ipython3",
   "version": "3.10.14"
  }
 },
 "nbformat": 4,
 "nbformat_minor": 2
}
